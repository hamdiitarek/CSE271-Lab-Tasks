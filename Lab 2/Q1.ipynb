{
 "cells": [
  {
   "cell_type": "markdown",
   "metadata": {},
   "source": [
    "Task 1"
   ]
  },
  {
   "cell_type": "code",
   "execution_count": 9,
   "metadata": {},
   "outputs": [
    {
     "name": "stdout",
     "output_type": "stream",
     "text": [
      "[10, 12, 14, 16, 18, 20, 22, 24, 26, 28, 30]\n"
     ]
    }
   ],
   "source": [
    "list = []\n",
    "for x in range(10, 31, 2):\n",
    "    list.append(x)\n",
    "\n",
    "print(list)"
   ]
  },
  {
   "cell_type": "code",
   "execution_count": 10,
   "metadata": {},
   "outputs": [
    {
     "name": "stdout",
     "output_type": "stream",
     "text": [
      "[10, 12, 14, 16]\n"
     ]
    }
   ],
   "source": [
    "set = list[0:4]\n",
    "print(set)"
   ]
  },
  {
   "cell_type": "markdown",
   "metadata": {},
   "source": [
    "Task 2"
   ]
  },
  {
   "cell_type": "code",
   "execution_count": 13,
   "metadata": {},
   "outputs": [
    {
     "name": "stdout",
     "output_type": "stream",
     "text": [
      "{'Book1': 1, 'Book2': 2, 'Book3': 3, 'Book4': 4, 'Book5': 5}\n",
      "{'Book1': 1, 'Book2': 2, 'Book3': 'updated', 'Book4': 4, 'Book5': 5}\n",
      "{'Book1': 1, 'Book2': 2, 'Book3': 'updated', 'Book4': 4, 'Book5': 5, 'Book6': 6}\n"
     ]
    }
   ],
   "source": [
    "books = {\n",
    "    'Book1': 1,\n",
    "    'Book2': 2,\n",
    "    'Book3': 3,\n",
    "    'Book4': 4,\n",
    "    'Book5': 5\n",
    "}\n",
    "print(books)\n",
    "books.update({\"Book3\": \"updated\"})\n",
    "print(books)\n",
    "books[\"Book6\"] = 6\n",
    "print(books)"
   ]
  }
 ],
 "metadata": {
  "kernelspec": {
   "display_name": "Python 3",
   "language": "python",
   "name": "python3"
  },
  "language_info": {
   "codemirror_mode": {
    "name": "ipython",
    "version": 3
   },
   "file_extension": ".py",
   "mimetype": "text/x-python",
   "name": "python",
   "nbconvert_exporter": "python",
   "pygments_lexer": "ipython3",
   "version": "3.12.1"
  }
 },
 "nbformat": 4,
 "nbformat_minor": 2
}
